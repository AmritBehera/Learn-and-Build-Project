{
 "cells": [
  {
   "cell_type": "code",
   "execution_count": 1,
   "id": "305fb15e",
   "metadata": {},
   "outputs": [],
   "source": [
    "students = []\n",
    "\n",
    "def accept_student():\n",
    "    student_name = input(\"Enter student name: \")\n",
    "    student_roll_number = input(\"Enter student roll number: \")\n",
    "    subject_1_marks = float(input(\"Enter marks for subject 1: \"))\n",
    "    subject_2_marks = float(input(\"Enter marks for subject 2: \"))\n",
    "\n",
    "    student = {\n",
    "        \"student_info\": {\n",
    "            \"student_name\": student_name,\n",
    "            \"student_roll_number\": student_roll_number,\n",
    "            \"subject_1_marks\": subject_1_marks,\n",
    "            \"subject_2_marks\": subject_2_marks\n",
    "        }\n",
    "    }\n",
    "\n",
    "    students.append(student)\n",
    "    print(\"Student data accepted.\")\n",
    "\n",
    "def display_students():\n",
    "    if not students:\n",
    "        print(\"No student data available.\")\n",
    "        return\n",
    "\n",
    "    print(\"Student Data:\")\n",
    "    for student in students:\n",
    "        print(\"Name:\", student[\"student_info\"][\"student_name\"])\n",
    "        print(\"Roll Number:\", student[\"student_info\"][\"student_roll_number\"])\n",
    "        print(\"Marks 1:\", student[\"student_info\"][\"subject_1_marks\"])\n",
    "        print(\"Marks 2:\", student[\"student_info\"][\"subject_2_marks\"])\n",
    "        print()\n",
    "\n",
    "def search_student_by_name(student_name):\n",
    "    found_students = []\n",
    "    for student in students:\n",
    "        if student[\"student_info\"][\"student_name\"].lower() == student_name.lower():\n",
    "            found_students.append(student)\n",
    "\n",
    "    if not found_students:\n",
    "        print(\"No student with the given name found.\")\n",
    "        return\n",
    "\n",
    "    print(\"Student(s) Found:\")\n",
    "    for student in found_students:\n",
    "        print(\"Name:\", student[\"student_info\"][\"student_name\"])\n",
    "        print(\"Roll Number:\", student[\"student_info\"][\"student_roll_number\"])\n",
    "        print(\"Marks 1:\", student[\"student_info\"][\"subject_1_marks\"])\n",
    "        print(\"Marks 2:\", student[\"student_info\"][\"subject_2_marks\"])\n",
    "        print()\n",
    "\n",
    "def delete_student(student_roll_number):\n",
    "    for student in students:\n",
    "        if student[\"student_info\"][\"student_roll_number\"] == student_roll_number:\n",
    "            students.remove(student)\n",
    "            print(\"Student data deleted successfully.\")\n",
    "            return\n",
    "\n",
    "    print(\"No student with the given roll number found.\")\n",
    "\n",
    "def update_student(student_roll_number):\n",
    "    for student in students:\n",
    "        if student[\"student_info\"][\"student_roll_number\"] == student_roll_number:\n",
    "            print(\"Enter updated details for the student:\")\n",
    "            student[\"student_info\"][\"student_name\"] = input(\"Enter updated name: \")\n",
    "            student[\"student_info\"][\"student_roll_number\"] = input(\"Enter updated roll number: \")\n",
    "            student[\"student_info\"][\"subject_1_marks\"] = float(input(\"Enter updated marks for subject 1: \"))\n",
    "            student[\"student_info\"][\"subject_2_marks\"] = float(input(\"Enter updated marks for subject 2: \"))\n",
    "            print(\"Student data updated successfully.\")\n",
    "            return\n",
    "\n",
    "    print(\"No student with the given roll number found.\")"
   ]
  },
  {
   "cell_type": "code",
   "execution_count": 2,
   "id": "6ec25232",
   "metadata": {},
   "outputs": [
    {
     "name": "stdout",
     "output_type": "stream",
     "text": [
      "Enter student name: amrit\n",
      "Enter student roll number: 343\n",
      "Enter marks for subject 1: 100\n",
      "Enter marks for subject 2: 80\n",
      "Student data accepted.\n"
     ]
    }
   ],
   "source": [
    "accept_student()"
   ]
  },
  {
   "cell_type": "code",
   "execution_count": 3,
   "id": "cf88df11",
   "metadata": {},
   "outputs": [
    {
     "name": "stdout",
     "output_type": "stream",
     "text": [
      "Enter student name: alok\n",
      "Enter student roll number: 60\n",
      "Enter marks for subject 1: 30\n",
      "Enter marks for subject 2: 20\n",
      "Student data accepted.\n"
     ]
    }
   ],
   "source": [
    "accept_student()"
   ]
  },
  {
   "cell_type": "code",
   "execution_count": 4,
   "id": "5595c067",
   "metadata": {},
   "outputs": [
    {
     "name": "stdout",
     "output_type": "stream",
     "text": [
      "Student Data:\n",
      "Name: amrit\n",
      "Roll Number: 343\n",
      "Marks 1: 100.0\n",
      "Marks 2: 80.0\n",
      "\n",
      "Name: alok\n",
      "Roll Number: 60\n",
      "Marks 1: 30.0\n",
      "Marks 2: 20.0\n",
      "\n"
     ]
    }
   ],
   "source": [
    "display_students()"
   ]
  },
  {
   "cell_type": "code",
   "execution_count": 5,
   "id": "d831a90d",
   "metadata": {},
   "outputs": [
    {
     "name": "stdout",
     "output_type": "stream",
     "text": [
      "Student(s) Found:\n",
      "Name: alok\n",
      "Roll Number: 60\n",
      "Marks 1: 30.0\n",
      "Marks 2: 20.0\n",
      "\n"
     ]
    }
   ],
   "source": [
    "search_student_by_name('alok')"
   ]
  },
  {
   "cell_type": "code",
   "execution_count": 6,
   "id": "a0513b1d",
   "metadata": {},
   "outputs": [
    {
     "name": "stdout",
     "output_type": "stream",
     "text": [
      "Student(s) Found:\n",
      "Name: amrit\n",
      "Roll Number: 343\n",
      "Marks 1: 100.0\n",
      "Marks 2: 80.0\n",
      "\n"
     ]
    }
   ],
   "source": [
    "search_student_by_name('amrit')"
   ]
  },
  {
   "cell_type": "code",
   "execution_count": 9,
   "id": "36c79913",
   "metadata": {},
   "outputs": [
    {
     "name": "stdout",
     "output_type": "stream",
     "text": [
      "Enter updated details for the student:\n",
      "Enter updated name: alok\n",
      "Enter updated roll number: 360\n",
      "Enter updated marks for subject 1: 30\n",
      "Enter updated marks for subject 2: 20\n",
      "Student data updated successfully.\n"
     ]
    }
   ],
   "source": [
    "update_student('60')"
   ]
  },
  {
   "cell_type": "code",
   "execution_count": 12,
   "id": "d3e0698a",
   "metadata": {},
   "outputs": [
    {
     "name": "stdout",
     "output_type": "stream",
     "text": [
      "Student data deleted successfully.\n"
     ]
    }
   ],
   "source": [
    "delete_student('360')"
   ]
  },
  {
   "cell_type": "code",
   "execution_count": 13,
   "id": "17d48366",
   "metadata": {},
   "outputs": [
    {
     "name": "stdout",
     "output_type": "stream",
     "text": [
      "Student Data:\n",
      "Name: amrit\n",
      "Roll Number: 343\n",
      "Marks 1: 100.0\n",
      "Marks 2: 80.0\n",
      "\n"
     ]
    }
   ],
   "source": [
    "display_students()"
   ]
  },
  {
   "cell_type": "code",
   "execution_count": null,
   "id": "5155ed11",
   "metadata": {},
   "outputs": [],
   "source": []
  }
 ],
 "metadata": {
  "kernelspec": {
   "display_name": "Python 3 (ipykernel)",
   "language": "python",
   "name": "python3"
  },
  "language_info": {
   "codemirror_mode": {
    "name": "ipython",
    "version": 3
   },
   "file_extension": ".py",
   "mimetype": "text/x-python",
   "name": "python",
   "nbconvert_exporter": "python",
   "pygments_lexer": "ipython3",
   "version": "3.9.12"
  }
 },
 "nbformat": 4,
 "nbformat_minor": 5
}
